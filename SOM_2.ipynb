{
 "cells": [
  {
   "cell_type": "code",
   "execution_count": null,
   "id": "f71e2e40",
   "metadata": {},
   "outputs": [],
   "source": []
  },
  {
   "cell_type": "markdown",
   "id": "6a4ed38c",
   "metadata": {},
   "source": [
    "<h4>Загружаем и читаем данные</h4>"
   ]
  },
  {
   "cell_type": "code",
   "execution_count": 13,
   "id": "e99c86b2",
   "metadata": {},
   "outputs": [
    {
     "name": "stdout",
     "output_type": "stream",
     "text": [
      "Iris Data Загружены\n",
      "Образец датасета: [5.1 3.8 1.9 0.4]\n",
      "Класс вышеупомянутого датасета: Iris-setosa\n"
     ]
    }
   ],
   "source": [
    "import numpy as np # linear algebra\n",
    "import math\n",
    "import random\n",
    "\n",
    "patterns = []\n",
    "classes = []\n",
    "\n",
    "#читаем дата сет\n",
    "filename = 'Iris_data.txt'\n",
    "file = open(filename,'r')\n",
    "\n",
    "for line in file.readlines():\n",
    "    row = line.strip().split(',')\n",
    "    patterns.append(row[0:4])\n",
    "    classes.append(row[4])\n",
    "print(\"Iris Data Загружены\")\n",
    "file.close\n",
    "\n",
    "patterns = np.asarray(patterns,dtype=np.float32)\n",
    "#print(patterns)\n",
    "\n",
    "sample_no = np.random.randint(0,len(patterns))\n",
    "\n",
    "print(\"Образец датасета: \" + str(patterns[int(sample_no)]))\n",
    "print(\"Класс вышеупомянутого датасета: \" + str(classes[int(sample_no)]))\n",
    "    "
   ]
  },
  {
   "cell_type": "code",
   "execution_count": null,
   "id": "01eec24c",
   "metadata": {},
   "outputs": [],
   "source": []
  },
  {
   "cell_type": "code",
   "execution_count": 20,
   "id": "9056f85a",
   "metadata": {},
   "outputs": [
    {
     "name": "stdout",
     "output_type": "stream",
     "text": [
      "Найдена меньшая ошибка: 0.9842172485402655 в эпохе: 1\n",
      "\tСкорость обучения: 0.0998\n",
      "\tРадиус соседства: 4.491008994002999\n",
      "Найдена меньшая ошибка: 0.694037910869535 в эпохе: 2\n",
      "\tСкорость обучения: 0.09960000000000001\n",
      "\tРадиус соседства: 4.482035952047962\n",
      "Найдена меньшая ошибка: 0.5109920934003143 в эпохе: 5\n",
      "\tСкорость обучения: 0.099\n",
      "\tРадиус соседства: 4.455224251871257\n",
      "Найдена меньшая ошибка: 0.44552774993380423 в эпохе: 12\n",
      "\tСкорость обучения: 0.0976\n",
      "\tРадиус соседства: 4.393285693910592\n",
      "Найдена меньшая ошибка: 0.4247994712551105 в эпохе: 16\n",
      "\tСкорость обучения: 0.0968\n",
      "\tРадиус соседства: 4.358279619356389\n",
      "Найдена меньшая ошибка: 0.41255380882685483 в эпохе: 45\n",
      "\tСкорость обучения: 0.09100000000000001\n",
      "\tРадиус соседства: 4.1126903337205265\n",
      "Найдена меньшая ошибка: 0.3305845383408764 в эпохе: 48\n",
      "\tСкорость обучения: 0.09040000000000001\n",
      "\tРадиус соседства: 4.088088072309178\n",
      "Найдена меньшая ошибка: 0.20624530827101367 в эпохе: 56\n",
      "\tСкорость обучения: 0.0888\n",
      "\tРадиус соседства: 4.023199158751607\n",
      "Найдена меньшая ошибка: 0.13821950852650652 в эпохе: 114\n",
      "\tСкорость обучения: 0.0772\n",
      "\tРадиус соседства: 3.5825591692595418\n",
      "Найдена меньшая ошибка: 0.13155008368586626 в эпохе: 140\n",
      "\tСкорость обучения: 0.072\n",
      "\tРадиус соседства: 3.4010268365507645\n",
      "Найдена меньшая ошибка: 0.11849878849814979 в эпохе: 161\n",
      "\tСкорость обучения: 0.0678\n",
      "\tРадиус соседства: 3.261141856484563\n",
      "Найдена меньшая ошибка: 0.10466841815379643 в эпохе: 180\n",
      "\tСкорость обучения: 0.064\n",
      "\tРадиус соседства: 3.1395434673196396\n",
      "Найдена меньшая ошибка: 0.09468514158326224 в эпохе: 233\n",
      "\tСкорость обучения: 0.0534\n",
      "\tРадиус соседства: 2.823782778213033\n",
      "Найдена меньшая ошибка: 0.08233810508567814 в эпохе: 234\n",
      "\tСкорость обучения: 0.053200000000000004\n",
      "\tРадиус соседства: 2.8181408564590016\n",
      "Найдена меньшая ошибка: 0.046929047150141574 в эпохе: 260\n",
      "\tСкорость обучения: 0.048\n",
      "\tРадиус соседства: 2.675342465865875\n",
      "Найдена меньшая ошибка: 0.045485950377812286 в эпохе: 312\n",
      "\tСкорость обучения: 0.0376\n",
      "\tРадиус соседства: 2.411086309503552\n",
      "Найдена меньшая ошибка: 0.04446095738432883 в эпохе: 353\n",
      "\tСкорость обучения: 0.029400000000000006\n",
      "\tРадиус соседства: 2.221266206942288\n",
      "Найдена меньшая ошибка: 0.041782039847481814 в эпохе: 354\n",
      "\tСкорость обучения: 0.029200000000000004\n",
      "\tРадиус соседства: 2.2168281141006094\n",
      "Найдена меньшая ошибка: 0.039795985387629386 в эпохе: 375\n",
      "\tСкорость обучения: 0.025\n",
      "\tРадиус соседства: 2.125649487334566\n",
      "Найдена меньшая ошибка: 0.03285739293104143 в эпохе: 376\n",
      "\tСкорость обучения: 0.024800000000000003\n",
      "\tРадиус соседства: 2.121402436826089\n",
      "Найдена меньшая ошибка: 0.029200212018335028 в эпохе: 378\n",
      "\tСкорость обучения: 0.0244\n",
      "\tРадиус соседства: 2.1129337756925968\n",
      "Найдена меньшая ошибка: 0.028706975175508645 в эпохе: 396\n",
      "\tСкорость обучения: 0.0208\n",
      "\tРадиус соседства: 2.0382210574945097\n",
      "Найдена меньшая ошибка: 0.028161201859835526 в эпохе: 404\n",
      "\tСкорость обучения: 0.019199999999999995\n",
      "\tРадиус соседства: 2.005869026992321\n",
      "Найдена меньшая ошибка: 0.023669921384972207 в эпохе: 406\n",
      "\tСкорость обучения: 0.018799999999999997\n",
      "\tРадиус соседства: 1.9978615764620102\n",
      "Найдена меньшая ошибка: 0.021084601909876793 в эпохе: 408\n",
      "\tСкорость обучения: 0.018400000000000007\n",
      "\tРадиус соседства: 1.989886091759544\n",
      "Найдена меньшая ошибка: 0.016673125174365477 в эпохе: 414\n",
      "\tСкорость обучения: 0.017200000000000003\n",
      "\tРадиус соседства: 1.9661501590849855\n",
      "Найдена меньшая ошибка: 0.009160529122813437 в эпохе: 420\n",
      "\tСкорость обучения: 0.016000000000000004\n",
      "\tРадиус соседства: 1.9426973554308589\n",
      "Найдена меньшая ошибка: 0.008294028466593476 в эпохе: 428\n",
      "\tСкорость обучения: 0.014400000000000003\n",
      "\tРадиус соседства: 1.9118615420786604\n",
      "Найдена меньшая ошибка: 0.00796030458775928 в эпохе: 435\n",
      "\tСкорость обучения: 0.013000000000000001\n",
      "\tРадиус соседства: 1.8852819716143756\n",
      "Найдена меньшая ошибка: 0.00370578007837121 в эпохе: 455\n",
      "\tСкорость обучения: 0.008999999999999998\n",
      "\tРадиус соседства: 1.8113590081513617\n",
      "Найдена меньшая ошибка: 0.002969489529620758 в эпохе: 465\n",
      "\tСкорость обучения: 0.006999999999999996\n",
      "\tРадиус соседства: 1.775491696672205\n",
      "Найдена меньшая ошибка: 0.0018415058933143834 в эпохе: 484\n",
      "\tСкорость обучения: 0.003200000000000003\n",
      "\tРадиус соседства: 1.7092888328312044\n",
      "Найдена меньшая ошибка: 0.000919734026938525 в эпохе: 489\n",
      "\tСкорость обучения: 0.002200000000000002\n",
      "\tРадиус соседства: 1.6922811247738432\n"
     ]
    }
   ],
   "source": [
    "import matplotlib.pyplot as plt # для графиков\n",
    "#позволяет визуализировать график внутри блокнота\n",
    "%matplotlib inline  \n",
    "\n",
    "#функция для вычисления эвклидова расстояния\n",
    "def Eucli_dists(MAP,x):\n",
    "    x = x.reshape((1,1,-1))\n",
    "    #print(x)\n",
    "    Eucli_MAP = MAP - x\n",
    "    Eucli_MAP = Eucli_MAP**2\n",
    "    Eucli_MAP = np.sqrt(np.sum(Eucli_MAP,2))\n",
    "    return Eucli_MAP\n",
    " \n",
    "    \n",
    "input_dimensions = 4\n",
    "\n",
    "map_width = 9\n",
    "map_height = 5\n",
    "\n",
    "MAP = np.random.uniform(size=(map_height,map_width,input_dimensions)) #создаю нейроны со случайными весами\n",
    "prev_MAP = np.zeros((map_height,map_width,input_dimensions))\n",
    "\n",
    "#определяем нач радиус и скорость обучения\n",
    "radius0 = max(map_width,map_height)/2\n",
    "learning_rate0 = 0.1\n",
    "\n",
    "coordinate_map = np.zeros([map_height,map_width,2],dtype=np.int32) #новый массив заполненный нулями\n",
    "\n",
    "for i in range(0,map_height):\n",
    "    for j in range(0,map_width):\n",
    "        coordinate_map[i][j] = [i,j]\n",
    "\n",
    "#определяем параметры для сети        \n",
    "epochs = 500\n",
    "radius=radius0\n",
    "learning_rate = learning_rate0\n",
    "max_iterations = len(patterns)+1\n",
    "too_many_iterations = 10*max_iterations\n",
    "\n",
    "sblizhenie = [1]\n",
    "\n",
    "timestep=1\n",
    "e=0.001 \n",
    "flag=0\n",
    "\n",
    "epoch=0\n",
    "while epoch<epochs: # в течение нескольких эпох\n",
    "    \n",
    "    shuffle = np.random.randint(len(patterns), size=len(patterns))\n",
    "    for i in range(len(patterns)): # for each input\n",
    "        \n",
    "        # разница между prev_MAP and MAP # вычисляю ошибку, сколько изменилось\n",
    "        J = np.linalg.norm(MAP - prev_MAP)  \n",
    "        #print(J)\n",
    "        # J = || евклидово расстояние между предыдущей MAP и текущей MAP ||\n",
    "\n",
    "        if  J <= e: #если есть схождение сближение (критерии сходимости)\n",
    "            flag=1\n",
    "            break\n",
    "            \n",
    "        else:\n",
    "            #присваиваю рандомные \n",
    "            pattern = patterns[shuffle[i]]                              #случайный ввод\n",
    "            pattern_ary = np.tile(pattern, (map_height, map_width, 1))  #повторяем значения\n",
    "            Eucli_MAP = np.linalg.norm(pattern_ary - MAP, axis=2)       #вычисляем норму матрицы #найти вес каждому нейрону\n",
    "            \n",
    "            # Получаем наилучшую единицу соответствия- победителя (BMU), которая имеет наименьшее евклидово расстояние.\n",
    "            BMU = np.unravel_index(np.argmin(Eucli_MAP, axis=None), Eucli_MAP.shape) # из возможных нейронов\n",
    "        \n",
    "            prev_MAP = np.copy(MAP)          #сохраняю карту перед\n",
    "             \n",
    "            for i in range(map_height):\n",
    "                for j in range(map_width):\n",
    "                    distance = np.linalg.norm([i - BMU[0], j - BMU[1]])           # если он находится поблизости\n",
    "                    if distance <= radius:                                        # проверить наличие расстояния\n",
    "                        \n",
    "                        MAP[i][j] = MAP[i][j] + learning_rate*(pattern-MAP[i][j]) #регулируем веса карты\n",
    "            \n",
    "            learning_rate = learning_rate0*(1-(epoch/epochs))    #корректирую параметры\n",
    "            \n",
    "            radius = radius0*math.exp(-epoch/epochs)\n",
    "            #print([learning_rate, radius])\n",
    "            \n",
    "            timestep+=1\n",
    "    \n",
    "    if J < min(sblizhenie):\n",
    "        print('Найдена меньшая ошибка: %s' %str(J) + ' в эпохе: %s' % str(epoch))\n",
    "        print('\\tСкорость обучения: ' + str(learning_rate))\n",
    "        print('\\tРадиус соседства: ' + str(radius))\n",
    "        MAP_final = MAP\n",
    "        \n",
    "    sblizhenie.append(J)\n",
    "    \n",
    "    if flag==1:\n",
    "        break\n",
    "    epoch+=1"
   ]
  },
  {
   "cell_type": "code",
   "execution_count": 21,
   "id": "a9110cc1",
   "metadata": {},
   "outputs": [
    {
     "data": {
      "image/png": "[encoded data removed]",
      "text/plain": [
       "<Figure size 432x288 with 1 Axes>"
      ]
     },
     "metadata": {
      "needs_background": "light"
     },
     "output_type": "display_data"
    },
    {
     "name": "stdout",
     "output_type": "stream",
     "text": [
      "Кол-во шагов: 73380\n",
      "Окончательная ошибка: 0.000919734026938525\n"
     ]
    }
   ],
   "source": [
    "# График ошибки на каждой эпохе\n",
    "plt.plot(sblizhenie)\n",
    "plt.ylabel('ошибка')\n",
    "plt.xlabel('эпоха')\n",
    "plt.grid(True)\n",
    "plt.yscale('log')\n",
    "plt.show()\n",
    "print('Кол-во шагов: ' + str(timestep))\n",
    "print('Окончательная ошибка: ' + str(J))"
   ]
  },
  {
   "cell_type": "code",
   "execution_count": 19,
   "id": "f58ab162",
   "metadata": {},
   "outputs": [
    {
     "name": "stdout",
     "output_type": "stream",
     "text": [
      "Красный = Iris-Setosa\n",
      "Синий = Iris-Virginica\n",
      "Зеленый = Iris-Versicolor\n"
     ]
    },
    {
     "data": {
      "text/plain": [
       "<matplotlib.image.AxesImage at 0x21767e1a670>"
      ]
     },
     "execution_count": 19,
     "metadata": {},
     "output_type": "execute_result"
    },
    {
     "data": {
      "image/png": "[encoded data removed]",
      "text/plain": [
       "<Figure size 432x288 with 1 Axes>"
      ]
     },
     "metadata": {
      "needs_background": "light"
     },
     "output_type": "display_data"
    }
   ],
   "source": [
    "# Визуализация\n",
    "from PIL import Image\n",
    "import numpy as np\n",
    "\n",
    "BMU = np.zeros([2],dtype=np.int32)\n",
    "result_map = np.zeros([map_height,map_width,3],dtype=np.float32)\n",
    "\n",
    "i=0\n",
    "for pattern in patterns: # for each input\n",
    "    \n",
    "    pattern_ary = np.tile(pattern, (map_height, map_width, 1)) \n",
    "    Eucli_MAP = np.linalg.norm(pattern_ary - MAP_final, axis=2) # вычислияю, к какому нейрону этот вход наиболее близок\n",
    "\n",
    "    # Получить наилучшую единицу соответствия - победителя (BMU), которая имеет наименьшее евклидово расстояние.\n",
    "    BMU = np.unravel_index(np.argmin(Eucli_MAP, axis=None), Eucli_MAP.shape)\n",
    "    #print(i, BMU)\n",
    "    \n",
    "    x = BMU[0]\n",
    "    y = BMU[1]\n",
    "    \n",
    "    if classes[i] == 'Iris-setosa':\n",
    "        if result_map[x][y][0] <= 0.5:\n",
    "            result_map[x][y] += np.asarray([0.5,0,0])\n",
    "    elif classes[i] == 'Iris-virginica':\n",
    "        if result_map[x][y][1] <= 0.5:\n",
    "            result_map[x][y] += np.asarray([0,0.5,0])\n",
    "    elif classes[i] == 'Iris-versicolor':\n",
    "        if result_map[x][y][2] <= 0.5:\n",
    "            result_map[x][y] += np.asarray([0,0,0.5])\n",
    "    i+=1\n",
    "result_map = np.flip(result_map,0)\n",
    "    \n",
    "#print result_map\n",
    "\n",
    "print(\"Красный = Iris-Setosa\")\n",
    "print(\"Синий = Iris-Virginica\")\n",
    "print(\"Зеленый = Iris-Versicolor\")\n",
    "\n",
    "plt.imshow(result_map, interpolation='nearest')"
   ]
  },
  {
   "cell_type": "markdown",
   "id": "97ec42bb",
   "metadata": {},
   "source": [
    "<span>Каждый пиксель представляет собой узел</span><br>\n",
    "<span>Если пиксель ярко окрашен (цвет не смешен с другим), это означает, что многие модели класса, под таким же цветом, активируют этот пиксель, т.е. этот пиксель является лучшим узлом соответствия для многих моделей того же класса.</span><br>\n",
    "<span>А пиксели более темного цвета являются лучшими единицами соответствия только для нескольких паттернов класса, представленного данным цветом.</span><br>\n",
    "<span>Черные пиксели не являются пикселями наилучшего соответствия ни для одного из входных шаблонов.</span><br>\n",
    "<span>Если же цвет представляет собой смесь двух цветов (например, \"синевато-зеленый\"), то пиксель представляет собой \"серую область\", то есть пиксель является наилучшей единицей соответствия для деталей разных классов.</span>"
   ]
  },
  {
   "cell_type": "code",
   "execution_count": null,
   "id": "5bfed410",
   "metadata": {},
   "outputs": [],
   "source": []
  }
 ],
 "metadata": {
  "kernelspec": {
   "display_name": "Python 3 (ipykernel)",
   "language": "python",
   "name": "python3"
  },
  "language_info": {
   "codemirror_mode": {
    "name": "ipython",
    "version": 3
   },
   "file_extension": ".py",
   "mimetype": "text/x-python",
   "name": "python",
   "nbconvert_exporter": "python",
   "pygments_lexer": "ipython3",
   "version": "3.9.5"
  }
 },
 "nbformat": 4,
 "nbformat_minor": 5
}
